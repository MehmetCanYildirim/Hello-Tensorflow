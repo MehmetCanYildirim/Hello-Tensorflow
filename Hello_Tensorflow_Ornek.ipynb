{
  "nbformat": 4,
  "nbformat_minor": 0,
  "metadata": {
    "colab": {
      "name": "Hello_Tensorflow_Ornek.ipynb",
      "provenance": [],
      "collapsed_sections": [],
      "include_colab_link": true
    },
    "kernelspec": {
      "name": "python3",
      "display_name": "Python 3"
    }
  },
  "cells": [
    {
      "cell_type": "markdown",
      "metadata": {
        "id": "view-in-github",
        "colab_type": "text"
      },
      "source": [
        "<a href=\"https://colab.research.google.com/github/MehmetCanYildirim/Memory/blob/main/Hello_Tensorflow_Ornek.ipynb\" target=\"_parent\"><img src=\"https://colab.research.google.com/assets/colab-badge.svg\" alt=\"Open In Colab\"/></a>"
      ]
    },
    {
      "cell_type": "code",
      "metadata": {
        "id": "wqMdAkImpnFM"
      },
      "source": [
        "import numpy as np\r\n",
        "import pandas as pd\r\n",
        "import matplotlib.pyplot as plt"
      ],
      "execution_count": null,
      "outputs": []
    },
    {
      "cell_type": "code",
      "metadata": {
        "id": "-bUq8xh3q0sp"
      },
      "source": [
        "!wget https://openfiles.izmir.bel.tr/309436/docs/askida_fatura_ilce_ve_semt_baz%C4%B1nda_yap%C4%B1lan_basvurular.csv --no-check-certificate"
      ],
      "execution_count": null,
      "outputs": []
    },
    {
      "cell_type": "code",
      "metadata": {
        "id": "9JrOm0DMrOYj"
      },
      "source": [
        "!head askida_fatura_ilce_ve_semt_bazında_yapılan_basvurular.csv"
      ],
      "execution_count": null,
      "outputs": []
    },
    {
      "cell_type": "code",
      "metadata": {
        "id": "1uiquDYErQ-q"
      },
      "source": [
        "df = pd.read_csv('askida_fatura_ilce_ve_semt_bazında_yapılan_basvurular.csv', sep = ';')\r\n",
        "print(df)"
      ],
      "execution_count": null,
      "outputs": []
    },
    {
      "cell_type": "code",
      "metadata": {
        "id": "zKNIHn6zsBCH"
      },
      "source": [
        "#plt.rcParams['figure.figsize'] = [10, 10]\r\n",
        "grouped = df.groupby(['ILCE'])['BASVURU_SAYISI'].sum().reset_index()\r\n",
        "print(grouped)\r\n",
        "#grouped.to_numpy()"
      ],
      "execution_count": null,
      "outputs": []
    },
    {
      "cell_type": "code",
      "metadata": {
        "id": "0lq0tIr01FMc"
      },
      "source": [
        "x = grouped.iloc[:, 0]\r\n",
        "y = grouped.iloc[:, 1]\r\n",
        "plt.bar(x, height=y)\r\n",
        "#plt.bar(grouped['ILCE'], height=grouped['BASVURU_SAYISI'])\r\n",
        "plt.xlabel('İlçe')\r\n",
        "plt.ylabel('Başvuru sayısı')\r\n",
        "plt.xticks(rotation='vertical')\r\n",
        "plt.show()"
      ],
      "execution_count": null,
      "outputs": []
    },
    {
      "cell_type": "code",
      "metadata": {
        "id": "7dq4RHn-wdI7"
      },
      "source": [
        "grouped = df.groupby(['TARIH'])['BASVURU_SAYISI'].sum().reset_index()\r\n",
        "print(grouped)"
      ],
      "execution_count": null,
      "outputs": []
    },
    {
      "cell_type": "code",
      "metadata": {
        "id": "4BsvDui93sR4"
      },
      "source": [
        "plt.rcParams['figure.figsize'] = [30, 10]\r\n",
        "x = grouped.iloc[:, 0]\r\n",
        "y = grouped.iloc[:, 1]\r\n",
        "plt.plot(x, y)\r\n",
        "plt.xlabel('Tarih')\r\n",
        "plt.ylabel('Başvuru sayısı')\r\n",
        "plt.xticks(rotation='vertical')\r\n",
        "plt.grid(axis='both')\r\n",
        "plt.show()"
      ],
      "execution_count": null,
      "outputs": []
    },
    {
      "cell_type": "code",
      "metadata": {
        "id": "ysn-UnS-7DYt"
      },
      "source": [
        "!wget https://openfiles.izmir.bel.tr/309436/docs/askida_alınan_fatura_adetleri.csv --no-check-certificate"
      ],
      "execution_count": null,
      "outputs": []
    },
    {
      "cell_type": "code",
      "metadata": {
        "id": "FRXljmCn7Imd"
      },
      "source": [
        "!head askida_alınan_fatura_adetleri.csv"
      ],
      "execution_count": null,
      "outputs": []
    },
    {
      "cell_type": "code",
      "metadata": {
        "id": "Ou-Em3Or7TZo"
      },
      "source": [
        "df = pd.read_csv('askida_alınan_fatura_adetleri.csv', sep = ';')\r\n",
        "print(df)"
      ],
      "execution_count": null,
      "outputs": []
    },
    {
      "cell_type": "code",
      "metadata": {
        "id": "s9TmAKbG7lE_"
      },
      "source": [
        "grouped = df.groupby(['ILCE', 'MAHALLE'])[['TUTAR', 'FATURA_ADEDI']].sum().reset_index()\r\n",
        "print(grouped)"
      ],
      "execution_count": null,
      "outputs": []
    },
    {
      "cell_type": "code",
      "metadata": {
        "id": "M-_c50ro-6Xy"
      },
      "source": [
        "plt.scatter(x = grouped['ILCE'], y = grouped['TUTAR']/grouped['FATURA_ADEDI'])\r\n",
        "plt.xlabel('İlçe')\r\n",
        "plt.ylabel('Ortalama Fatura Tutarı')\r\n",
        "plt.xticks(rotation='vertical')\r\n",
        "plt.show()"
      ],
      "execution_count": null,
      "outputs": []
    },
    {
      "cell_type": "code",
      "metadata": {
        "id": "OQfIZ6vEAy4j"
      },
      "source": [
        "plt.scatter(x = grouped['TUTAR'], y = grouped['FATURA_ADEDI'])\r\n",
        "plt.xlabel('Tutar')\r\n",
        "plt.ylabel('Fatura Adedi')\r\n",
        "plt.show()"
      ],
      "execution_count": null,
      "outputs": []
    }
  ]
}